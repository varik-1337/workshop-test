{
 "cells": [
  {
   "cell_type": "code",
   "execution_count": 1,
   "id": "92dd8693-c62b-4faf-86a8-8b2b9b00755a",
   "metadata": {},
   "outputs": [],
   "source": [
    "# My test notebook"
   ]
  },
  {
   "cell_type": "code",
   "execution_count": 2,
   "id": "4485a1e7-cbec-47f0-b654-b432375876d5",
   "metadata": {},
   "outputs": [
    {
     "data": {
      "text/plain": [
       "49"
      ]
     },
     "execution_count": 2,
     "metadata": {},
     "output_type": "execute_result"
    }
   ],
   "source": [
    "7 * 7"
   ]
  }
 ],
 "metadata": {
  "kernelspec": {
   "display_name": "Python 3 (ipykernel)",
   "language": "python",
   "name": "python3"
  },
  "language_info": {
   "codemirror_mode": {
    "name": "ipython",
    "version": 3
   },
   "file_extension": ".py",
   "mimetype": "text/x-python",
   "name": "python",
   "nbconvert_exporter": "python",
   "pygments_lexer": "ipython3",
   "version": "3.10.10"
  }
 },
 "nbformat": 4,
 "nbformat_minor": 5
}
